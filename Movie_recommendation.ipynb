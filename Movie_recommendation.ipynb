{
  "nbformat": 4,
  "nbformat_minor": 0,
  "metadata": {
    "colab": {
      "provenance": [],
      "authorship_tag": "ABX9TyMO9vIhUxCGtUWfn1ItTxeT",
      "include_colab_link": true
    },
    "kernelspec": {
      "name": "python3",
      "display_name": "Python 3"
    },
    "language_info": {
      "name": "python"
    }
  },
  "cells": [
    {
      "cell_type": "markdown",
      "metadata": {
        "id": "view-in-github",
        "colab_type": "text"
      },
      "source": [
        "<a href=\"https://colab.research.google.com/github/thayyilakul/PyTorch-ML/blob/main/Movie_recommendation.ipynb\" target=\"_parent\"><img src=\"https://colab.research.google.com/assets/colab-badge.svg\" alt=\"Open In Colab\"/></a>"
      ]
    },
    {
      "cell_type": "code",
      "execution_count": 1,
      "metadata": {
        "colab": {
          "base_uri": "https://localhost:8080/",
          "height": 35
        },
        "id": "8R6bGDBi0WW7",
        "outputId": "5eaf39d2-6cb1-4c8b-aa37-3dc387867e9c"
      },
      "outputs": [
        {
          "output_type": "execute_result",
          "data": {
            "text/plain": [
              "'2.5.1+cu121'"
            ],
            "application/vnd.google.colaboratory.intrinsic+json": {
              "type": "string"
            }
          },
          "metadata": {},
          "execution_count": 1
        }
      ],
      "source": [
        "import torch\n",
        "torch.__version__"
      ]
    },
    {
      "cell_type": "code",
      "source": [
        "from google.colab import drive\n",
        "drive.mount('/content/gdrive')"
      ],
      "metadata": {
        "colab": {
          "base_uri": "https://localhost:8080/"
        },
        "id": "dH0zrHH_0ZJT",
        "outputId": "8ec88fae-746d-4026-f643-57031bf2c0cf"
      },
      "execution_count": 3,
      "outputs": [
        {
          "output_type": "stream",
          "name": "stdout",
          "text": [
            "Mounted at /content/gdrive\n"
          ]
        }
      ]
    },
    {
      "cell_type": "code",
      "source": [
        "import pandas as pd\n",
        "\n",
        "df = pd.read_csv('/content/gdrive/MyDrive/ratings.csv')\n",
        "df.head()"
      ],
      "metadata": {
        "colab": {
          "base_uri": "https://localhost:8080/",
          "height": 206
        },
        "id": "k3I2NtCK0m2R",
        "outputId": "70fc44cf-dc69-4d8c-9b07-4aa494c87cd9"
      },
      "execution_count": 4,
      "outputs": [
        {
          "output_type": "execute_result",
          "data": {
            "text/plain": [
              "   userId  movieId  rating  timestamp\n",
              "0       1        1     4.0  964982703\n",
              "1       1        3     4.0  964981247\n",
              "2       1        6     4.0  964982224\n",
              "3       1       47     5.0  964983815\n",
              "4       1       50     5.0  964982931"
            ],
            "text/html": [
              "\n",
              "  <div id=\"df-e4034ee4-a916-49c4-92c1-949d67b252b1\" class=\"colab-df-container\">\n",
              "    <div>\n",
              "<style scoped>\n",
              "    .dataframe tbody tr th:only-of-type {\n",
              "        vertical-align: middle;\n",
              "    }\n",
              "\n",
              "    .dataframe tbody tr th {\n",
              "        vertical-align: top;\n",
              "    }\n",
              "\n",
              "    .dataframe thead th {\n",
              "        text-align: right;\n",
              "    }\n",
              "</style>\n",
              "<table border=\"1\" class=\"dataframe\">\n",
              "  <thead>\n",
              "    <tr style=\"text-align: right;\">\n",
              "      <th></th>\n",
              "      <th>userId</th>\n",
              "      <th>movieId</th>\n",
              "      <th>rating</th>\n",
              "      <th>timestamp</th>\n",
              "    </tr>\n",
              "  </thead>\n",
              "  <tbody>\n",
              "    <tr>\n",
              "      <th>0</th>\n",
              "      <td>1</td>\n",
              "      <td>1</td>\n",
              "      <td>4.0</td>\n",
              "      <td>964982703</td>\n",
              "    </tr>\n",
              "    <tr>\n",
              "      <th>1</th>\n",
              "      <td>1</td>\n",
              "      <td>3</td>\n",
              "      <td>4.0</td>\n",
              "      <td>964981247</td>\n",
              "    </tr>\n",
              "    <tr>\n",
              "      <th>2</th>\n",
              "      <td>1</td>\n",
              "      <td>6</td>\n",
              "      <td>4.0</td>\n",
              "      <td>964982224</td>\n",
              "    </tr>\n",
              "    <tr>\n",
              "      <th>3</th>\n",
              "      <td>1</td>\n",
              "      <td>47</td>\n",
              "      <td>5.0</td>\n",
              "      <td>964983815</td>\n",
              "    </tr>\n",
              "    <tr>\n",
              "      <th>4</th>\n",
              "      <td>1</td>\n",
              "      <td>50</td>\n",
              "      <td>5.0</td>\n",
              "      <td>964982931</td>\n",
              "    </tr>\n",
              "  </tbody>\n",
              "</table>\n",
              "</div>\n",
              "    <div class=\"colab-df-buttons\">\n",
              "\n",
              "  <div class=\"colab-df-container\">\n",
              "    <button class=\"colab-df-convert\" onclick=\"convertToInteractive('df-e4034ee4-a916-49c4-92c1-949d67b252b1')\"\n",
              "            title=\"Convert this dataframe to an interactive table.\"\n",
              "            style=\"display:none;\">\n",
              "\n",
              "  <svg xmlns=\"http://www.w3.org/2000/svg\" height=\"24px\" viewBox=\"0 -960 960 960\">\n",
              "    <path d=\"M120-120v-720h720v720H120Zm60-500h600v-160H180v160Zm220 220h160v-160H400v160Zm0 220h160v-160H400v160ZM180-400h160v-160H180v160Zm440 0h160v-160H620v160ZM180-180h160v-160H180v160Zm440 0h160v-160H620v160Z\"/>\n",
              "  </svg>\n",
              "    </button>\n",
              "\n",
              "  <style>\n",
              "    .colab-df-container {\n",
              "      display:flex;\n",
              "      gap: 12px;\n",
              "    }\n",
              "\n",
              "    .colab-df-convert {\n",
              "      background-color: #E8F0FE;\n",
              "      border: none;\n",
              "      border-radius: 50%;\n",
              "      cursor: pointer;\n",
              "      display: none;\n",
              "      fill: #1967D2;\n",
              "      height: 32px;\n",
              "      padding: 0 0 0 0;\n",
              "      width: 32px;\n",
              "    }\n",
              "\n",
              "    .colab-df-convert:hover {\n",
              "      background-color: #E2EBFA;\n",
              "      box-shadow: 0px 1px 2px rgba(60, 64, 67, 0.3), 0px 1px 3px 1px rgba(60, 64, 67, 0.15);\n",
              "      fill: #174EA6;\n",
              "    }\n",
              "\n",
              "    .colab-df-buttons div {\n",
              "      margin-bottom: 4px;\n",
              "    }\n",
              "\n",
              "    [theme=dark] .colab-df-convert {\n",
              "      background-color: #3B4455;\n",
              "      fill: #D2E3FC;\n",
              "    }\n",
              "\n",
              "    [theme=dark] .colab-df-convert:hover {\n",
              "      background-color: #434B5C;\n",
              "      box-shadow: 0px 1px 3px 1px rgba(0, 0, 0, 0.15);\n",
              "      filter: drop-shadow(0px 1px 2px rgba(0, 0, 0, 0.3));\n",
              "      fill: #FFFFFF;\n",
              "    }\n",
              "  </style>\n",
              "\n",
              "    <script>\n",
              "      const buttonEl =\n",
              "        document.querySelector('#df-e4034ee4-a916-49c4-92c1-949d67b252b1 button.colab-df-convert');\n",
              "      buttonEl.style.display =\n",
              "        google.colab.kernel.accessAllowed ? 'block' : 'none';\n",
              "\n",
              "      async function convertToInteractive(key) {\n",
              "        const element = document.querySelector('#df-e4034ee4-a916-49c4-92c1-949d67b252b1');\n",
              "        const dataTable =\n",
              "          await google.colab.kernel.invokeFunction('convertToInteractive',\n",
              "                                                    [key], {});\n",
              "        if (!dataTable) return;\n",
              "\n",
              "        const docLinkHtml = 'Like what you see? Visit the ' +\n",
              "          '<a target=\"_blank\" href=https://colab.research.google.com/notebooks/data_table.ipynb>data table notebook</a>'\n",
              "          + ' to learn more about interactive tables.';\n",
              "        element.innerHTML = '';\n",
              "        dataTable['output_type'] = 'display_data';\n",
              "        await google.colab.output.renderOutput(dataTable, element);\n",
              "        const docLink = document.createElement('div');\n",
              "        docLink.innerHTML = docLinkHtml;\n",
              "        element.appendChild(docLink);\n",
              "      }\n",
              "    </script>\n",
              "  </div>\n",
              "\n",
              "\n",
              "<div id=\"df-012fc331-9fe5-471a-8a14-522da71a2906\">\n",
              "  <button class=\"colab-df-quickchart\" onclick=\"quickchart('df-012fc331-9fe5-471a-8a14-522da71a2906')\"\n",
              "            title=\"Suggest charts\"\n",
              "            style=\"display:none;\">\n",
              "\n",
              "<svg xmlns=\"http://www.w3.org/2000/svg\" height=\"24px\"viewBox=\"0 0 24 24\"\n",
              "     width=\"24px\">\n",
              "    <g>\n",
              "        <path d=\"M19 3H5c-1.1 0-2 .9-2 2v14c0 1.1.9 2 2 2h14c1.1 0 2-.9 2-2V5c0-1.1-.9-2-2-2zM9 17H7v-7h2v7zm4 0h-2V7h2v10zm4 0h-2v-4h2v4z\"/>\n",
              "    </g>\n",
              "</svg>\n",
              "  </button>\n",
              "\n",
              "<style>\n",
              "  .colab-df-quickchart {\n",
              "      --bg-color: #E8F0FE;\n",
              "      --fill-color: #1967D2;\n",
              "      --hover-bg-color: #E2EBFA;\n",
              "      --hover-fill-color: #174EA6;\n",
              "      --disabled-fill-color: #AAA;\n",
              "      --disabled-bg-color: #DDD;\n",
              "  }\n",
              "\n",
              "  [theme=dark] .colab-df-quickchart {\n",
              "      --bg-color: #3B4455;\n",
              "      --fill-color: #D2E3FC;\n",
              "      --hover-bg-color: #434B5C;\n",
              "      --hover-fill-color: #FFFFFF;\n",
              "      --disabled-bg-color: #3B4455;\n",
              "      --disabled-fill-color: #666;\n",
              "  }\n",
              "\n",
              "  .colab-df-quickchart {\n",
              "    background-color: var(--bg-color);\n",
              "    border: none;\n",
              "    border-radius: 50%;\n",
              "    cursor: pointer;\n",
              "    display: none;\n",
              "    fill: var(--fill-color);\n",
              "    height: 32px;\n",
              "    padding: 0;\n",
              "    width: 32px;\n",
              "  }\n",
              "\n",
              "  .colab-df-quickchart:hover {\n",
              "    background-color: var(--hover-bg-color);\n",
              "    box-shadow: 0 1px 2px rgba(60, 64, 67, 0.3), 0 1px 3px 1px rgba(60, 64, 67, 0.15);\n",
              "    fill: var(--button-hover-fill-color);\n",
              "  }\n",
              "\n",
              "  .colab-df-quickchart-complete:disabled,\n",
              "  .colab-df-quickchart-complete:disabled:hover {\n",
              "    background-color: var(--disabled-bg-color);\n",
              "    fill: var(--disabled-fill-color);\n",
              "    box-shadow: none;\n",
              "  }\n",
              "\n",
              "  .colab-df-spinner {\n",
              "    border: 2px solid var(--fill-color);\n",
              "    border-color: transparent;\n",
              "    border-bottom-color: var(--fill-color);\n",
              "    animation:\n",
              "      spin 1s steps(1) infinite;\n",
              "  }\n",
              "\n",
              "  @keyframes spin {\n",
              "    0% {\n",
              "      border-color: transparent;\n",
              "      border-bottom-color: var(--fill-color);\n",
              "      border-left-color: var(--fill-color);\n",
              "    }\n",
              "    20% {\n",
              "      border-color: transparent;\n",
              "      border-left-color: var(--fill-color);\n",
              "      border-top-color: var(--fill-color);\n",
              "    }\n",
              "    30% {\n",
              "      border-color: transparent;\n",
              "      border-left-color: var(--fill-color);\n",
              "      border-top-color: var(--fill-color);\n",
              "      border-right-color: var(--fill-color);\n",
              "    }\n",
              "    40% {\n",
              "      border-color: transparent;\n",
              "      border-right-color: var(--fill-color);\n",
              "      border-top-color: var(--fill-color);\n",
              "    }\n",
              "    60% {\n",
              "      border-color: transparent;\n",
              "      border-right-color: var(--fill-color);\n",
              "    }\n",
              "    80% {\n",
              "      border-color: transparent;\n",
              "      border-right-color: var(--fill-color);\n",
              "      border-bottom-color: var(--fill-color);\n",
              "    }\n",
              "    90% {\n",
              "      border-color: transparent;\n",
              "      border-bottom-color: var(--fill-color);\n",
              "    }\n",
              "  }\n",
              "</style>\n",
              "\n",
              "  <script>\n",
              "    async function quickchart(key) {\n",
              "      const quickchartButtonEl =\n",
              "        document.querySelector('#' + key + ' button');\n",
              "      quickchartButtonEl.disabled = true;  // To prevent multiple clicks.\n",
              "      quickchartButtonEl.classList.add('colab-df-spinner');\n",
              "      try {\n",
              "        const charts = await google.colab.kernel.invokeFunction(\n",
              "            'suggestCharts', [key], {});\n",
              "      } catch (error) {\n",
              "        console.error('Error during call to suggestCharts:', error);\n",
              "      }\n",
              "      quickchartButtonEl.classList.remove('colab-df-spinner');\n",
              "      quickchartButtonEl.classList.add('colab-df-quickchart-complete');\n",
              "    }\n",
              "    (() => {\n",
              "      let quickchartButtonEl =\n",
              "        document.querySelector('#df-012fc331-9fe5-471a-8a14-522da71a2906 button');\n",
              "      quickchartButtonEl.style.display =\n",
              "        google.colab.kernel.accessAllowed ? 'block' : 'none';\n",
              "    })();\n",
              "  </script>\n",
              "</div>\n",
              "\n",
              "    </div>\n",
              "  </div>\n"
            ],
            "application/vnd.google.colaboratory.intrinsic+json": {
              "type": "dataframe",
              "variable_name": "df"
            }
          },
          "metadata": {},
          "execution_count": 4
        }
      ]
    },
    {
      "cell_type": "code",
      "source": [
        "len(df)"
      ],
      "metadata": {
        "colab": {
          "base_uri": "https://localhost:8080/"
        },
        "id": "PHgiPP7u2D1d",
        "outputId": "2e41f4f4-6a09-4862-aa85-763fa2915db4"
      },
      "execution_count": 5,
      "outputs": [
        {
          "output_type": "execute_result",
          "data": {
            "text/plain": [
              "100836"
            ]
          },
          "metadata": {},
          "execution_count": 5
        }
      ]
    },
    {
      "cell_type": "code",
      "source": [
        "from torch.utils.data import Dataset\n",
        "\n",
        "class MovieLensDataset(Dataset):\n",
        "  def __init__(self, users, movies, ratings):\n",
        "    self.users = users\n",
        "    self.movies = movies\n",
        "    self.ratings = ratings\n",
        "\n",
        "  def __len__(self):\n",
        "    return len(self.users)\n",
        "\n",
        "  def __getitem__(self, item):\n",
        "    users = self.users[item]\n",
        "    movies = self.movies[item]\n",
        "    ratings = self.ratings[item]\n",
        "    return {\n",
        "        'users' : torch.tensor(users, dtype = torch.long),\n",
        "        'movies' : torch.tensor(movies, dtype = torch.long),\n",
        "        'ratings' : torch.tensor(ratings, dtype = torch.long),\n",
        "    }"
      ],
      "metadata": {
        "id": "hwmaoqNe0422"
      },
      "execution_count": 6,
      "outputs": []
    },
    {
      "cell_type": "code",
      "source": [
        "from torch import nn\n",
        "\n",
        "class RecommendationSystemModel(nn.Module):\n",
        "  def __init__(self, num_users, num_movies, embedding_size = 256, hidden_dim = 256, dropout_rate = 0.2):\n",
        "    super().__init__()\n",
        "    self.num_users = num_users\n",
        "    self.num_movies = num_movies\n",
        "    self.embedding_size = embedding_size\n",
        "    self.hidden_dim = hidden_dim\n",
        "\n",
        "    self.user_embedding = nn.Embedding(num_embeddings = self.num_users, embedding_dim = self.embedding_size)\n",
        "    self.movie_embedding = nn.Embedding(num_embeddings = self.num_movies, embedding_dim = self.embedding_size)\n",
        "\n",
        "    self.fc1 = nn.Linear(2 * self.embedding_size, self.hidden_dim)\n",
        "    self.fc2 = nn.Linear(self.hidden_dim, 1)\n",
        "\n",
        "    self.dropout = nn.Dropout(p = dropout_rate)\n",
        "\n",
        "    self.relu = nn.ReLU()\n",
        "\n",
        "  def forward(self, users, movies):\n",
        "    user_embedded = self.user_embedding(users)\n",
        "    movie_embedded = self.movie_embedding(movies)\n",
        "\n",
        "    combined = torch.cat([user_embedded, movie_embedded], dim = 1)\n",
        "\n",
        "    x = self.relu(self.fc1(combined))\n",
        "    x = self.dropout(x)\n",
        "    output = self.fc2(x)\n",
        "    return output"
      ],
      "metadata": {
        "id": "L-AEMJi01pvl"
      },
      "execution_count": 7,
      "outputs": []
    },
    {
      "cell_type": "code",
      "source": [
        "from sklearn import preprocessing\n",
        "\n",
        "le_user = preprocessing.LabelEncoder()\n",
        "le_movie = preprocessing.LabelEncoder()\n",
        "df.userId = le_user.fit_transform(df.userId.values)\n",
        "df.movieId = le_movie.fit_transform(df.movieId.values)"
      ],
      "metadata": {
        "id": "sAyxx-5O4mGy"
      },
      "execution_count": 8,
      "outputs": []
    },
    {
      "cell_type": "code",
      "source": [
        "from sklearn.model_selection import train_test_split\n",
        "\n",
        "df_train, df_val = train_test_split(df, test_size = 0.2, random_state = 3, stratify = df.rating.values)"
      ],
      "metadata": {
        "id": "ljYi1m4G6xXp"
      },
      "execution_count": 9,
      "outputs": []
    },
    {
      "cell_type": "code",
      "source": [
        "train_dataset = MovieLensDataset(\n",
        "    users = df_train.userId.values,\n",
        "    movies = df_train.movieId.values,\n",
        "    ratings = df_train.rating.values,\n",
        ")\n",
        "\n",
        "valid_dataset = MovieLensDataset(\n",
        "    users = df_val.userId.values,\n",
        "    movies = df_val.movieId.values,\n",
        "    ratings = df_val.rating.values,\n",
        ")"
      ],
      "metadata": {
        "id": "UENkA6vZ8Rmq"
      },
      "execution_count": 10,
      "outputs": []
    },
    {
      "cell_type": "code",
      "source": [
        "from torch.utils.data import DataLoader\n",
        "\n",
        "BATCH_SIZE = 32\n",
        "\n",
        "train_loader = DataLoader(train_dataset, batch_size = BATCH_SIZE, shuffle = True, num_workers = 8)\n",
        "val_loader = DataLoader(valid_dataset, batch_size = BATCH_SIZE, shuffle = True, num_workers = 8)"
      ],
      "metadata": {
        "colab": {
          "base_uri": "https://localhost:8080/"
        },
        "id": "kp79kUPi694Y",
        "outputId": "30902ff6-bb7f-42f9-eb17-bc56250a9f62"
      },
      "execution_count": 11,
      "outputs": [
        {
          "output_type": "stream",
          "name": "stderr",
          "text": [
            "/usr/local/lib/python3.10/dist-packages/torch/utils/data/dataloader.py:617: UserWarning: This DataLoader will create 8 worker processes in total. Our suggested max number of worker in current system is 2, which is smaller than what this DataLoader is going to create. Please be aware that excessive worker creation might get DataLoader running slow or even freeze, lower the worker number to avoid potential slowness/freeze if necessary.\n",
            "  warnings.warn(\n"
          ]
        }
      ]
    },
    {
      "cell_type": "code",
      "source": [
        "recommendation_model = RecommendationSystemModel(\n",
        "    num_users = len(le_user.classes_),\n",
        "    num_movies = len(le_movie.classes_),\n",
        "    embedding_size = 64,\n",
        "    hidden_dim = 128,\n",
        "    dropout_rate = 0.1\n",
        ").to('cpu')\n",
        "\n",
        "optimizer = torch.optim.Adam(recommendation_model.parameters(), lr = 1e-3)\n",
        "loss_func = nn.MSELoss()"
      ],
      "metadata": {
        "id": "FMF6lxna8t9u"
      },
      "execution_count": 12,
      "outputs": []
    },
    {
      "cell_type": "code",
      "source": [
        "import sys\n",
        "\n",
        "EPOCHS = 2\n",
        "\n",
        "def log_progress(epoch, step, total_loss, log_progress_step, data_size, losses):\n",
        "  avg_loss = total_loss / log_progress_step\n",
        "  sys.stderr.write(f'\\r{epoch+1:02d}/{EPOCHS:02d} | Step : {step}/{data_size} | Avg Loss : {avg_loss:<6.9f}')\n",
        "  sys.stderr.flush()\n",
        "  losses.append(avg_loss)"
      ],
      "metadata": {
        "id": "Ar6qDWNtAf2o"
      },
      "execution_count": 13,
      "outputs": []
    },
    {
      "cell_type": "code",
      "source": [
        "total_loss = 0\n",
        "log_progress_step = 100\n",
        "losses = []\n",
        "train_dataset_size = len(train_dataset)\n",
        "print(f'Training on {train_dataset_size} samples...')\n",
        "\n",
        "recommendation_model.train()\n",
        "for e in range(EPOCHS):\n",
        "  step_count = 0\n",
        "  for i, train_data in enumerate(train_loader):\n",
        "    output = recommendation_model(train_data['users'].to('cpu'), train_data['movies'].to('cpu'))\n",
        "    output = output.squeeze()\n",
        "    ratings = (train_data['ratings'].to(torch.float32).to('cpu'))\n",
        "    loss = loss_func(output, ratings)\n",
        "    total_loss += loss.sum().item()\n",
        "    optimizer.zero_grad()\n",
        "    loss.backward()\n",
        "    optimizer.step()\n",
        "    step_count += len(train_data['users'])\n",
        "\n",
        "    if (step_count & log_progress_step == 0 or i == len(train_loader) - 1):\n",
        "      log_progress(e, step_count, total_loss, log_progress_step, train_dataset_size, losses)\n",
        "      total_loss = 0"
      ],
      "metadata": {
        "colab": {
          "base_uri": "https://localhost:8080/"
        },
        "id": "2t6nqzXqDeO0",
        "outputId": "4e2d5594-6174-4f65-80e3-e0ecb7758b74"
      },
      "execution_count": 14,
      "outputs": [
        {
          "output_type": "stream",
          "name": "stdout",
          "text": [
            "Training on 80668 samples...\n"
          ]
        },
        {
          "output_type": "stream",
          "name": "stderr",
          "text": [
            "/usr/local/lib/python3.10/dist-packages/torch/utils/data/dataloader.py:617: UserWarning: This DataLoader will create 8 worker processes in total. Our suggested max number of worker in current system is 2, which is smaller than what this DataLoader is going to create. Please be aware that excessive worker creation might get DataLoader running slow or even freeze, lower the worker number to avoid potential slowness/freeze if necessary.\n",
            "  warnings.warn(\n",
            "02/02 | Step : 80668/80668 | Avg Loss : 0.007254030"
          ]
        }
      ]
    },
    {
      "cell_type": "code",
      "source": [
        "import matplotlib.pyplot as plt\n",
        "\n",
        "plt.figure()\n",
        "plt.plot(losses)\n",
        "plt.xlabel('Steps')\n",
        "plt.ylabel('Avg Loss')\n",
        "plt.show()"
      ],
      "metadata": {
        "colab": {
          "base_uri": "https://localhost:8080/",
          "height": 449
        },
        "id": "hm9u73ihGLIf",
        "outputId": "c7f9805a-db2f-450e-8c81-ba595dc4ec02"
      },
      "execution_count": 15,
      "outputs": [
        {
          "output_type": "display_data",
          "data": {
            "text/plain": [
              "<Figure size 640x480 with 1 Axes>"
            ],
            "image/png": "[encoded data removed]"
          },
          "metadata": {}
        }
      ]
    },
    {
      "cell_type": "code",
      "source": [
        "import sklearn\n",
        "from sklearn.metrics import mean_squared_error\n",
        "\n",
        "y_pred = []\n",
        "y_true = []\n",
        "\n",
        "recommendation_model.eval()\n",
        "\n",
        "with torch.no_grad():\n",
        "  for i, valid_data in enumerate(val_loader):\n",
        "    output = recommendation_model(\n",
        "        valid_data['users'].to('cpu'),\n",
        "        valid_data['movies'].to('cpu')\n",
        "    )\n",
        "    ratings = valid_data['ratings'].to('cpu')\n",
        "    y_pred.extend(output.cpu().numpy())\n",
        "    y_true.extend(ratings.cpu().numpy())\n",
        "\n",
        "rms = mean_squared_error(y_true, y_pred)\n",
        "print(f'RMSE: {rms:.4f}')"
      ],
      "metadata": {
        "id": "KBJSjiHnG68D",
        "colab": {
          "base_uri": "https://localhost:8080/"
        },
        "outputId": "59f7a15d-57cc-4acd-a9d0-1a9ec6f6a7d6"
      },
      "execution_count": 16,
      "outputs": [
        {
          "output_type": "stream",
          "name": "stdout",
          "text": [
            "RMSE: 0.9168\n"
          ]
        }
      ]
    },
    {
      "cell_type": "code",
      "source": [
        "from collections import defaultdict\n",
        "\n",
        "def calculate_precision_recall(user_ratings, k, threshold):\n",
        "  user_ratings.sort(key = lambda x : x[0], reverse = True)\n",
        "  n_rel = sum(true_r >= threshold for _, true_r in user_ratings)\n",
        "  n_rec_k = sum(est >= threshold for est, _ in user_ratings[:k])\n",
        "  n_rel_and_rec_k = sum((true_r >= threshold) and (est >= threshold) for est, true_r in user_ratings[:k])\n",
        "\n",
        "  precision = n_rel_and_rec_k / n_rec_k if n_rec_k != 0 else 1\n",
        "  recall = n_rel_and_rec_k / n_rel if n_rel != 0 else 1\n",
        "  return precision, recall"
      ],
      "metadata": {
        "id": "LNYdLgwhTjvd"
      },
      "execution_count": 17,
      "outputs": []
    },
    {
      "cell_type": "code",
      "source": [
        "user_ratings_comparison = defaultdict(list)\n",
        "\n",
        "with torch.no_grad():\n",
        "  for valid_data in val_loader:\n",
        "    users = valid_data['users'].to('cpu')\n",
        "    movies = valid_data['movies'].to('cpu')\n",
        "    ratings = valid_data['ratings'].to('cpu')\n",
        "    output = recommendation_model(users, movies)\n",
        "\n",
        "    for user, pred, true in zip(users, output, ratings):\n",
        "      user_ratings_comparison[user.item()].append((pred[0].item(), true.item()))\n",
        "\n",
        "user_precisions = dict()\n",
        "user_based_recalls = dict()"
      ],
      "metadata": {
        "colab": {
          "base_uri": "https://localhost:8080/"
        },
        "id": "40jY2PGIUn-l",
        "outputId": "9f5cd52f-c584-4d74-ab1c-5c8b719f52cf"
      },
      "execution_count": 18,
      "outputs": [
        {
          "output_type": "stream",
          "name": "stderr",
          "text": [
            "/usr/local/lib/python3.10/dist-packages/torch/utils/data/dataloader.py:617: UserWarning: This DataLoader will create 8 worker processes in total. Our suggested max number of worker in current system is 2, which is smaller than what this DataLoader is going to create. Please be aware that excessive worker creation might get DataLoader running slow or even freeze, lower the worker number to avoid potential slowness/freeze if necessary.\n",
            "  warnings.warn(\n"
          ]
        }
      ]
    },
    {
      "cell_type": "code",
      "source": [
        "k = 50\n",
        "threshold = 3\n",
        "\n",
        "for user_id, user_ratings in user_ratings_comparison.items():\n",
        "  precision, recall = calculate_precision_recall(user_ratings, k, threshold)\n",
        "  user_precisions[user_id] = precision\n",
        "  user_based_recalls[user_id] = recall\n",
        "\n",
        "average_precision = sum(prec for prec in user_precisions.values()) / len(user_precisions)\n",
        "average_recall = sum(prec for prec in user_based_recalls.values()) / len(user_based_recalls)\n",
        "\n",
        "print(f'Precision @ {k}: {average_precision:.4f}')\n",
        "print(f'Recall @ {k}: {average_recall:.4f}')"
      ],
      "metadata": {
        "colab": {
          "base_uri": "https://localhost:8080/"
        },
        "id": "qlnldXp-Wq4y",
        "outputId": "2e8397ab-9256-4b6b-d09d-ba61fe7e4318"
      },
      "execution_count": 19,
      "outputs": [
        {
          "output_type": "stream",
          "name": "stdout",
          "text": [
            "Precision @ 50: 0.8995\n",
            "Recall @ 50: 0.8125\n"
          ]
        }
      ]
    },
    {
      "cell_type": "code",
      "source": [
        "def recommend_top_movies(model, user_id, all_movies, seen_movies, device = 'cpu', k = 5, batch_size = 100):\n",
        "  model.eval()\n",
        "  unseen_movies = [m for m in all_movies if m not in seen_movies]\n",
        "  predictions = []\n",
        "\n",
        "  with torch.no_grad():\n",
        "    for i in range(0, len(unseen_movies), batch_size):\n",
        "      batch_unseen_movies = unseen_movies[i:i+batch_size]\n",
        "      user_tensor = torch.tensor([user_id] * len(batch_unseen_movies)).to(device)\n",
        "      movie_tensor = torch.tensor(batch_unseen_movies).to(device)\n",
        "      predicted_ratings = model(user_tensor, movie_tensor).view(-1).tolist()\n",
        "      predictions.extend(zip(batch_unseen_movies, predicted_ratings))\n",
        "\n",
        "  predictions.sort(key = lambda x : x[1], reverse = True)\n",
        "  top_k_movies = [movie_id for movie_id, _ in predictions[:k]]\n",
        "  return top_k_movies"
      ],
      "metadata": {
        "id": "07i0eBurXhqr"
      },
      "execution_count": 20,
      "outputs": []
    },
    {
      "cell_type": "code",
      "source": [
        "def get_movies_with_genres(movie_ids, df_movies):\n",
        "  movies_with_genres = df_movies[df_movies['movieId'].isin(movie_ids)].copy()\n",
        "  movies_with_genres['title_with_genres'] = movies_with_genres[['title', 'genres']].agg(' - '.join, axis = 1)\n",
        "  return movies_with_genres['title_with_genres'].tolist()\n",
        "\n",
        "df_movies = pd.read_csv('/content/gdrive/MyDrive/movies.csv')\n",
        "\n",
        "all_movies = df['movieId'].unique().tolist()\n",
        "user_id = 1\n",
        "seen_movies = set(df[df['userId'] == user_id]['movieId'].tolist())\n",
        "\n",
        "recommendations = recommend_top_movies(\n",
        "    recommendation_model,\n",
        "    user_id,\n",
        "    all_movies,\n",
        "    seen_movies,\n",
        "    'cpu'\n",
        ")\n",
        "\n",
        "recommended_movies_with_genres = get_movies_with_genres(recommendations, df_movies)\n",
        "\n",
        "user_top_ten_seen_movies = df[df['userId'] == user_id].sort_values(by = 'rating', ascending = False).head(10)\n",
        "seen_movies_with_genres = get_movies_with_genres(user_top_ten_seen_movies['movieId'], df_movies)\n",
        "\n",
        "print(f'Recommended movies: \\n\\n{recommended_movies_with_genres}\\n\\nbased on these movies the user has watched:\\n\\n{seen_movies_with_genres}')"
      ],
      "metadata": {
        "colab": {
          "base_uri": "https://localhost:8080/"
        },
        "id": "JHw8CldpZgIZ",
        "outputId": "1c15c0d8-86a8-4a15-f031-847fb3621e26"
      },
      "execution_count": 26,
      "outputs": [
        {
          "output_type": "stream",
          "name": "stdout",
          "text": [
            "Recommended movies: \n",
            "\n",
            "['Don Juan DeMarco (1995) - Comedy|Drama|Romance', 'Robin Hood: Men in Tights (1993) - Comedy', 'North by Northwest (1959) - Action|Adventure|Mystery|Romance|Thriller', 'Road Trip (2000) - Comedy']\n",
            "\n",
            "based on these movies the user has watched:\n",
            "\n",
            "['High Noon (1952) - Drama|Western', 'Hannah and Her Sisters (1986) - Comedy|Drama|Romance', 'After Hours (1985) - Comedy|Thriller', 'AVP: Alien vs. Predator (2004) - Action|Horror|Sci-Fi|Thriller']\n"
          ]
        }
      ]
    },
    {
      "cell_type": "code",
      "source": [],
      "metadata": {
        "id": "uZER5OxXblLo"
      },
      "execution_count": null,
      "outputs": []
    }
  ]
}